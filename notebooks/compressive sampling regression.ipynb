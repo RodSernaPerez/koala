{
 "cells": [
  {
   "cell_type": "code",
   "execution_count": 160,
   "id": "governing-philippines",
   "metadata": {},
   "outputs": [],
   "source": [
    "import numpy as np\n",
    "from tqdm import tqdm\n",
    "import random\n"
   ]
  },
  {
   "cell_type": "code",
   "execution_count": 2,
   "id": "endless-numbers",
   "metadata": {},
   "outputs": [],
   "source": [
    "%matplotlib inline\n",
    "import matplotlib.pyplot as plt"
   ]
  },
  {
   "cell_type": "code",
   "execution_count": 3,
   "id": "lyric-empty",
   "metadata": {},
   "outputs": [],
   "source": [
    "import spacy\n",
    "nlp = spacy.load('en_core_web_sm')\n",
    "\n",
    "\n",
    "def lemmatizer(text):\n",
    "    doc = nlp(text)\n",
    "    return \" \".join([t.lemma_ for t in doc])"
   ]
  },
  {
   "cell_type": "markdown",
   "id": "subtle-birmingham",
   "metadata": {},
   "source": [
    "# Carga de datos\n",
    "Vamos a descargar un dataset de regresión sobre texto.\n",
    "\n",
    "Datasets info: https://huggingface.co/datasets/app_reviews"
   ]
  },
  {
   "cell_type": "code",
   "execution_count": 4,
   "id": "harmful-queensland",
   "metadata": {},
   "outputs": [
    {
     "name": "stderr",
     "output_type": "stream",
     "text": [
      "Using custom data configuration default\n",
      "Reusing dataset app_reviews (/home/rodri/.cache/huggingface/datasets/app_reviews/default/0.0.0/af305ac963fd8dff5976dd341e97edf3a2933c3509a58885caace361c5cd3fe3)\n"
     ]
    }
   ],
   "source": [
    "from datasets import load_dataset\n",
    "\n",
    "dataset = load_dataset(\"app_reviews\")"
   ]
  },
  {
   "cell_type": "code",
   "execution_count": 5,
   "id": "electoral-appraisal",
   "metadata": {},
   "outputs": [
    {
     "data": {
      "text/plain": [
       "Dataset({\n",
       "    features: ['package_name', 'review', 'date', 'star'],\n",
       "    num_rows: 288065\n",
       "})"
      ]
     },
     "execution_count": 5,
     "metadata": {},
     "output_type": "execute_result"
    }
   ],
   "source": [
    "dataset[\"train\"]"
   ]
  },
  {
   "cell_type": "code",
   "execution_count": 6,
   "id": "conscious-garden",
   "metadata": {},
   "outputs": [
    {
     "data": {
      "text/plain": [
       "[('com.google.android.gms', 103535),\n",
       " ('org.telegram.messenger', 22816),\n",
       " ('org.ppsspp.ppsspp', 9771),\n",
       " ('com.frostwire.android', 8867),\n",
       " ('com.google.android.marvin.talkback', 7807),\n",
       " ('org.wikipedia', 5410),\n",
       " ('net.sourceforge.opencamera', 3992),\n",
       " ('org.wordpress.android', 3200),\n",
       " ('com.google.android.apps.authenticator2', 2976),\n",
       " ('org.torproject.android', 2941)]"
      ]
     },
     "execution_count": 6,
     "metadata": {},
     "output_type": "execute_result"
    }
   ],
   "source": [
    "sorted(zip(*np.unique(dataset[\"train\"][\"package_name\"], return_counts=True)), key=lambda x: x[1], reverse=True)[:10]"
   ]
  },
  {
   "cell_type": "markdown",
   "id": "stylish-trainer",
   "metadata": {},
   "source": [
    "**Package name**: identificador de la aplicación\n",
    "\n",
    "**Review**: texto con la opinión de la app\n",
    "\n",
    "**Date**: Fecha de la review\n",
    "\n",
    "**Star**: puntuación de 1 a 5 estrellas"
   ]
  },
  {
   "cell_type": "code",
   "execution_count": 7,
   "id": "usual-immune",
   "metadata": {},
   "outputs": [
    {
     "name": "stdout",
     "output_type": "stream",
     "text": [
      "SELECTED PACKAGE:  org.telegram.messenger\n"
     ]
    }
   ],
   "source": [
    "package = 'org.telegram.messenger'\n",
    "print(\"SELECTED PACKAGE: \", package)\n",
    "texts_of_package = [i for i, x in enumerate(dataset[\"train\"][\"package_name\"]) if x == package]"
   ]
  },
  {
   "cell_type": "code",
   "execution_count": 8,
   "id": "powered-ebony",
   "metadata": {},
   "outputs": [
    {
     "name": "stdout",
     "output_type": "stream",
     "text": [
      "Number of samples:  22816\n"
     ]
    }
   ],
   "source": [
    "texts = np.asarray(dataset['train']['review'])[texts_of_package]\n",
    "targets = np.asarray(dataset['train']['star'])[texts_of_package]\n",
    "print(\"Number of samples: \", len(texts))"
   ]
  },
  {
   "cell_type": "code",
   "execution_count": 9,
   "id": "opening-passage",
   "metadata": {},
   "outputs": [
    {
     "data": {
      "image/png": "[encoded data removed]",
      "text/plain": [
       "<Figure size 432x288 with 1 Axes>"
      ]
     },
     "metadata": {
      "needs_background": "light"
     },
     "output_type": "display_data"
    }
   ],
   "source": [
    "plt.hist(targets)\n",
    "plt.title(\"Histogram for targets\");"
   ]
  },
  {
   "cell_type": "code",
   "execution_count": 10,
   "id": "silver-canadian",
   "metadata": {},
   "outputs": [
    {
     "name": "stdout",
     "output_type": "stream",
     "text": [
      "Awesome app\n",
      "5 stars\n",
      "=======================\n",
      "Nice\n",
      "1 stars\n",
      "=======================\n",
      "Rkj Fine\n",
      "5 stars\n",
      "=======================\n",
      "My Telegram I Love It\n",
      "5 stars\n",
      "=======================\n",
      "Its good application i love it.....\n",
      "5 stars\n",
      "=======================\n"
     ]
    }
   ],
   "source": [
    "for i in range(5):\n",
    "    print(texts[i])\n",
    "    print(f\"{targets[i]} stars\")\n",
    "    print(\"=======================\")"
   ]
  },
  {
   "cell_type": "markdown",
   "id": "scheduled-forward",
   "metadata": {},
   "source": [
    "Vamos a simular no tener la gran cantidad de datos que tenemos. Para ello vamos a tomar solo una pequeña parte de las muestras."
   ]
  },
  {
   "cell_type": "code",
   "execution_count": 96,
   "id": "informational-chrome",
   "metadata": {},
   "outputs": [],
   "source": [
    "n_samples_train = 2_000\n",
    "n_samples_test = 1_000"
   ]
  },
  {
   "cell_type": "markdown",
   "id": "alpha-armstrong",
   "metadata": {},
   "source": [
    "Separamos en training y test."
   ]
  },
  {
   "cell_type": "code",
   "execution_count": 97,
   "id": "violent-packet",
   "metadata": {},
   "outputs": [],
   "source": [
    "from sklearn.model_selection import train_test_split\n",
    "texts_train, texts_test, y_train, y_test = train_test_split(texts, targets, train_size=n_samples_train, test_size=n_samples_test)\n"
   ]
  },
  {
   "cell_type": "code",
   "execution_count": 98,
   "id": "narrow-heritage",
   "metadata": {},
   "outputs": [],
   "source": [
    "# texts_train = list(map(lemmatizer, texts_train))\n",
    "# texts_test = list(map(lemmatizer, texts_test))"
   ]
  },
  {
   "cell_type": "markdown",
   "id": "fuzzy-colon",
   "metadata": {},
   "source": [
    "# Generación de features\n",
    "Vamos a usar un CountVectorizer. Se generarán N features, una por cada palabra que aparezca en el dataset. Cada texto será codificado un vector de N posiciones, donde cada posición representa el número de veces que contiene la palabra correspondiente."
   ]
  },
  {
   "cell_type": "code",
   "execution_count": 99,
   "id": "floppy-north",
   "metadata": {},
   "outputs": [],
   "source": [
    "from sklearn.feature_extraction.text import CountVectorizer\n",
    "\n",
    "stopwords = [\"best\", \"bad\", \"love\", \"hate\", \"great\", \"good\", \"thanks\", \"not\", \"awesome\"]\n",
    "stopwords = []\n",
    "cv = CountVectorizer(\n",
    "    ngram_range=(1, 3), # Se generan n-gramas de hasta 3 tokens\n",
    "    min_df=2, # Solo se tomarán las palabras que aparezcan al menos un número mínimo de veces\n",
    "    stop_words=stopwords\n",
    ")\n",
    "X_train = cv.fit_transform(texts_train)"
   ]
  },
  {
   "cell_type": "code",
   "execution_count": 100,
   "id": "respective-office",
   "metadata": {},
   "outputs": [
    {
     "name": "stdout",
     "output_type": "stream",
     "text": [
      "Algunas de las features generadas:  ['but there', 'and the best', 'the new', 'the problem is', 'status', 'add features', 'made in', 'good its', 'min', 'it but']\n"
     ]
    }
   ],
   "source": [
    "print(\"Algunas de las features generadas: \", random.sample(cv.get_feature_names(), 10))"
   ]
  },
  {
   "cell_type": "code",
   "execution_count": 101,
   "id": "adjusted-alliance",
   "metadata": {},
   "outputs": [],
   "source": [
    "X_test = cv.transform(texts_test)"
   ]
  },
  {
   "cell_type": "code",
   "execution_count": 102,
   "id": "preceding-marks",
   "metadata": {},
   "outputs": [
    {
     "name": "stdout",
     "output_type": "stream",
     "text": [
      "TAMAÑO DEL DATASET DE ENTRANAMIENTO:  (2000, 3338)\n"
     ]
    }
   ],
   "source": [
    "print(\"TAMAÑO DEL DATASET DE ENTRANAMIENTO: \", X_train.shape)"
   ]
  },
  {
   "cell_type": "markdown",
   "id": "accurate-company",
   "metadata": {},
   "source": [
    "Vamos a escalar las features para que tengan la misma norma.\n",
    "\n",
    "En lugar de escalarlo a norma 1, vamos a hacerlo de forma que todos tengan la norma de la feauture con mayor norma. Esto evita algunos problemas de redondeos a cero."
   ]
  },
  {
   "cell_type": "code",
   "execution_count": 103,
   "id": "located-testament",
   "metadata": {},
   "outputs": [],
   "source": [
    "X_train_norm = X_train.toarray()\n",
    "X_test_norm = X_test.toarray()\n",
    "higher_norm = max([np.linalg.norm(X_train_norm[:, i]) for i in range(X_train.shape[1])])\n",
    "       \n",
    "for i in range(X_train.shape[1]):\n",
    "    coeff = higher_norm / np.linalg.norm(X_train_norm[:, i])\n",
    "    X_train_norm[:, i] = X_train_norm[:, i] * coeff\n",
    "    X_test_norm[:, i] = X_test_norm[:, i] * coeff\n",
    "    "
   ]
  },
  {
   "cell_type": "markdown",
   "id": "abstract-essay",
   "metadata": {},
   "source": [
    "# Modelo baseline: Linear Regressor\n",
    "Entrenamos un regresor lineal simple."
   ]
  },
  {
   "cell_type": "code",
   "execution_count": 155,
   "id": "dedicated-princess",
   "metadata": {},
   "outputs": [],
   "source": [
    "from sklearn.linear_model import LinearRegression\n",
    "from sklearn.metrics import r2_score, mean_squared_error"
   ]
  },
  {
   "cell_type": "code",
   "execution_count": 105,
   "id": "painful-words",
   "metadata": {},
   "outputs": [],
   "source": [
    "lr = LinearRegression().fit(X_train, y_train)"
   ]
  },
  {
   "cell_type": "code",
   "execution_count": 156,
   "id": "interim-species",
   "metadata": {},
   "outputs": [
    {
     "name": "stdout",
     "output_type": "stream",
     "text": [
      "Training score:  0.23343088340881468\n",
      "Test score:  4.288439983188699\n"
     ]
    }
   ],
   "source": [
    "print(\"Training score: \", mean_squared_error(y_train, lr.predict(X_train)))\n",
    "print(\"Test score: \", mean_squared_error(y_test, lr.predict(X_test)))"
   ]
  },
  {
   "cell_type": "code",
   "execution_count": 157,
   "id": "opening-ordinance",
   "metadata": {},
   "outputs": [
    {
     "name": "stdout",
     "output_type": "stream",
     "text": [
      "MOST IMPORTANT 20 words\n"
     ]
    },
    {
     "data": {
      "text/plain": [
       "[('thanks for this', 5.018114068121205),\n",
       " ('just awesome', 4.395789983814475),\n",
       " ('awesome thanks', -4.174124723052002),\n",
       " ('in india', -4.153721334990498),\n",
       " ('can not', -4.138257618172726),\n",
       " ('plz', -3.9999784425193976),\n",
       " ('nature', 3.9908777501692705),\n",
       " ('thanx', -3.742483269995731),\n",
       " ('app great', -3.7302621724770755),\n",
       " ('messaging', -3.622894801484117),\n",
       " ('emoji', -3.555705525979014),\n",
       " ('love this', 3.4557464412770895),\n",
       " ('like that', 3.452252300760432),\n",
       " ('share', 3.251390926841963),\n",
       " ('this application', -3.217071306059347),\n",
       " ('messaging app', 3.2009921796492184),\n",
       " ('that good', 3.1769481342644212),\n",
       " ('love this app', -3.142254006282895),\n",
       " ('not safe', -3.071337703831804),\n",
       " ('adds', 2.8384431178940353)]"
      ]
     },
     "execution_count": 157,
     "metadata": {},
     "output_type": "execute_result"
    }
   ],
   "source": [
    "n_important_words = 20\n",
    "print(\"MOST IMPORTANT {} words\".format(n_important_words))\n",
    "sorted(list(list(zip(cv.get_feature_names(), lr.coef_))), key=lambda x: abs(x[1]), reverse=True)[:n_important_words]"
   ]
  },
  {
   "cell_type": "markdown",
   "id": "yellow-riding",
   "metadata": {},
   "source": [
    "# Lasso"
   ]
  },
  {
   "cell_type": "code",
   "execution_count": 158,
   "id": "secure-furniture",
   "metadata": {},
   "outputs": [
    {
     "name": "stderr",
     "output_type": "stream",
     "text": [
      "/home/rodri/PycharmProjects/ClasificacionSinMuestras/venv/lib/python3.7/site-packages/sklearn/linear_model/_coordinate_descent.py:532: ConvergenceWarning: Objective did not converge. You might want to increase the number of iterations. Duality gap: 0.4354939221393579, tolerance: 0.18982993749999996\n",
      "  positive)\n",
      "/home/rodri/PycharmProjects/ClasificacionSinMuestras/venv/lib/python3.7/site-packages/sklearn/linear_model/_coordinate_descent.py:532: ConvergenceWarning: Objective did not converge. You might want to increase the number of iterations. Duality gap: 0.357994019663181, tolerance: 0.18982993749999996\n",
      "  positive)\n",
      "/home/rodri/PycharmProjects/ClasificacionSinMuestras/venv/lib/python3.7/site-packages/sklearn/linear_model/_coordinate_descent.py:532: ConvergenceWarning: Objective did not converge. You might want to increase the number of iterations. Duality gap: 3.0508250557468273, tolerance: 0.18982993749999996\n",
      "  positive)\n",
      "/home/rodri/PycharmProjects/ClasificacionSinMuestras/venv/lib/python3.7/site-packages/sklearn/linear_model/_coordinate_descent.py:532: ConvergenceWarning: Objective did not converge. You might want to increase the number of iterations. Duality gap: 2.876377941016983, tolerance: 0.18982993749999996\n",
      "  positive)\n",
      "/home/rodri/PycharmProjects/ClasificacionSinMuestras/venv/lib/python3.7/site-packages/sklearn/linear_model/_coordinate_descent.py:532: ConvergenceWarning: Objective did not converge. You might want to increase the number of iterations. Duality gap: 0.24140915026333687, tolerance: 0.1939177500000001\n",
      "  positive)\n",
      "/home/rodri/PycharmProjects/ClasificacionSinMuestras/venv/lib/python3.7/site-packages/sklearn/linear_model/_coordinate_descent.py:532: ConvergenceWarning: Objective did not converge. You might want to increase the number of iterations. Duality gap: 0.8218572045307724, tolerance: 0.1939177500000001\n",
      "  positive)\n",
      "/home/rodri/PycharmProjects/ClasificacionSinMuestras/venv/lib/python3.7/site-packages/sklearn/linear_model/_coordinate_descent.py:532: ConvergenceWarning: Objective did not converge. You might want to increase the number of iterations. Duality gap: 1.0609273833665043, tolerance: 0.1939177500000001\n",
      "  positive)\n",
      "/home/rodri/PycharmProjects/ClasificacionSinMuestras/venv/lib/python3.7/site-packages/sklearn/linear_model/_coordinate_descent.py:532: ConvergenceWarning: Objective did not converge. You might want to increase the number of iterations. Duality gap: 2.293453090854655, tolerance: 0.1939177500000001\n",
      "  positive)\n",
      "/home/rodri/PycharmProjects/ClasificacionSinMuestras/venv/lib/python3.7/site-packages/sklearn/linear_model/_coordinate_descent.py:532: ConvergenceWarning: Objective did not converge. You might want to increase the number of iterations. Duality gap: 1.0577029313183743, tolerance: 0.19783099999999984\n",
      "  positive)\n",
      "/home/rodri/PycharmProjects/ClasificacionSinMuestras/venv/lib/python3.7/site-packages/sklearn/linear_model/_coordinate_descent.py:532: ConvergenceWarning: Objective did not converge. You might want to increase the number of iterations. Duality gap: 1.8332680671772437, tolerance: 0.19783099999999984\n",
      "  positive)\n",
      "/home/rodri/PycharmProjects/ClasificacionSinMuestras/venv/lib/python3.7/site-packages/sklearn/linear_model/_coordinate_descent.py:532: ConvergenceWarning: Objective did not converge. You might want to increase the number of iterations. Duality gap: 2.795728283020651, tolerance: 0.19783099999999984\n",
      "  positive)\n",
      "/home/rodri/PycharmProjects/ClasificacionSinMuestras/venv/lib/python3.7/site-packages/sklearn/linear_model/_coordinate_descent.py:532: ConvergenceWarning: Objective did not converge. You might want to increase the number of iterations. Duality gap: 2.4617428378639374, tolerance: 0.19866775000000025\n",
      "  positive)\n",
      "/home/rodri/PycharmProjects/ClasificacionSinMuestras/venv/lib/python3.7/site-packages/sklearn/linear_model/_coordinate_descent.py:532: ConvergenceWarning: Objective did not converge. You might want to increase the number of iterations. Duality gap: 5.127821509103569, tolerance: 0.19866775000000025\n",
      "  positive)\n",
      "/home/rodri/PycharmProjects/ClasificacionSinMuestras/venv/lib/python3.7/site-packages/sklearn/linear_model/_coordinate_descent.py:532: ConvergenceWarning: Objective did not converge. You might want to increase the number of iterations. Duality gap: 11.141291131251876, tolerance: 0.19866775000000025\n",
      "  positive)\n",
      "/home/rodri/PycharmProjects/ClasificacionSinMuestras/venv/lib/python3.7/site-packages/sklearn/linear_model/_coordinate_descent.py:532: ConvergenceWarning: Objective did not converge. You might want to increase the number of iterations. Duality gap: 0.4427993386546518, tolerance: 0.2042984375\n",
      "  positive)\n",
      "/home/rodri/PycharmProjects/ClasificacionSinMuestras/venv/lib/python3.7/site-packages/sklearn/linear_model/_coordinate_descent.py:532: ConvergenceWarning: Objective did not converge. You might want to increase the number of iterations. Duality gap: 1.8427688256497845, tolerance: 0.2042984375\n",
      "  positive)\n",
      "/home/rodri/PycharmProjects/ClasificacionSinMuestras/venv/lib/python3.7/site-packages/sklearn/linear_model/_coordinate_descent.py:532: ConvergenceWarning: Objective did not converge. You might want to increase the number of iterations. Duality gap: 2.422688968301543, tolerance: 0.2042984375\n",
      "  positive)\n"
     ]
    }
   ],
   "source": [
    "from sklearn.linear_model import LassoCV\n",
    "lasso_model = LassoCV(n_alphas=10).fit(X_train_norm, y_train)"
   ]
  },
  {
   "cell_type": "code",
   "execution_count": 159,
   "id": "egyptian-double",
   "metadata": {},
   "outputs": [
    {
     "name": "stdout",
     "output_type": "stream",
     "text": [
      "Training score:  0.5298888228395948\n",
      "Test score:  0.2166252799294175\n"
     ]
    }
   ],
   "source": [
    "print(\"Training score: \", r2_score(y_train, lasso_model.predict(X_train_norm)))\n",
    "print(\"Test score: \", r2_score(y_test, lasso_model.predict(X_test_norm)))"
   ]
  },
  {
   "cell_type": "code",
   "execution_count": 144,
   "id": "collaborative-danger",
   "metadata": {},
   "outputs": [
    {
     "data": {
      "text/plain": [
       "264"
      ]
     },
     "execution_count": 144,
     "metadata": {},
     "output_type": "execute_result"
    }
   ],
   "source": [
    "len([c for c in lasso_model.coef_ if c != 0])"
   ]
  },
  {
   "cell_type": "markdown",
   "id": "dried-positive",
   "metadata": {},
   "source": [
    "# OMP"
   ]
  },
  {
   "cell_type": "code",
   "execution_count": 135,
   "id": "numerous-offer",
   "metadata": {},
   "outputs": [],
   "source": [
    "from sklearn.linear_model import OrthogonalMatchingPursuit,  OrthogonalMatchingPursuitCV\n",
    "from sklearn.pipeline import Pipeline\n"
   ]
  },
  {
   "cell_type": "code",
   "execution_count": 150,
   "id": "alpine-conservation",
   "metadata": {},
   "outputs": [],
   "source": [
    "omp =  OrthogonalMatchingPursuitCV(max_iter=50)\n",
    "omp = omp.fit(X_train_norm, y_train)"
   ]
  },
  {
   "cell_type": "code",
   "execution_count": 130,
   "id": "another-centre",
   "metadata": {},
   "outputs": [],
   "source": [
    "from sklearn.model_selection import GridSearchCV\n",
    "gcv = GridSearchCV(omp, param_grid={\"n_nonzero_coefs\": range(50, 200, 20)}, scoring=\"r2\").fit(X_train_norm, y_train)"
   ]
  },
  {
   "cell_type": "code",
   "execution_count": 151,
   "id": "artificial-terminal",
   "metadata": {},
   "outputs": [],
   "source": [
    "gcv = omp"
   ]
  },
  {
   "cell_type": "code",
   "execution_count": 152,
   "id": "unlimited-sunrise",
   "metadata": {},
   "outputs": [
    {
     "data": {
      "text/plain": [
       "6"
      ]
     },
     "execution_count": 152,
     "metadata": {},
     "output_type": "execute_result"
    }
   ],
   "source": [
    "gcv.n_nonzero_coefs_"
   ]
  },
  {
   "cell_type": "code",
   "execution_count": 153,
   "id": "rural-switch",
   "metadata": {},
   "outputs": [
    {
     "name": "stdout",
     "output_type": "stream",
     "text": [
      "Training score:  0.16044807136304295\n",
      "Test score:  0.1197781876010513\n"
     ]
    }
   ],
   "source": [
    "print(\"Training score: \", r2_score(y_train, gcv.predict(X_train_norm)))\n",
    "print(\"Test score: \", r2_score(y_test, gcv.predict(X_test_norm)))"
   ]
  },
  {
   "cell_type": "code",
   "execution_count": 154,
   "id": "dressed-grain",
   "metadata": {},
   "outputs": [
    {
     "data": {
      "text/plain": [
       "[('not', -0.38891198364213503),\n",
       " ('hate', -0.28465963730773114),\n",
       " ('religion', -0.2332330876632032),\n",
       " ('doesn', -0.23125299686186407),\n",
       " ('dont', -0.22753808831982078),\n",
       " ('trying', -0.2106107843028904)]"
      ]
     },
     "execution_count": 154,
     "metadata": {},
     "output_type": "execute_result"
    }
   ],
   "source": [
    "not_null_indices = [i for i,x in enumerate(gcv.coef_) if x != 0]\n",
    "\n",
    "    \n",
    "sorted(list(filter(lambda x: x[1] != 0, list(zip(cv.get_feature_names(), gcv.coef_)))), key=lambda x: abs(x[1]), reverse=True) "
   ]
  },
  {
   "cell_type": "code",
   "execution_count": 147,
   "id": "micro-banks",
   "metadata": {},
   "outputs": [
    {
     "data": {
      "text/plain": [
       "[\"I hate this app This application include some stickers (modern budha) and it's insulting our religion. And it shouldn't be there. So please  telegrame developers remove that sticker pack.\",\n",
       " 'Disappointed such a shame that an app with millions of users made a dumb move like insulting a religion. buddhist people are using this app too. so... good luck with pissing users off.',\n",
       " \"Urgently remove the modern buddha stickers pack!!Are u making fun of religion???? 😶 Remove the 'modern buddha' stickers in ur stickers pack. It's insulting to Buddhism!!! 👎👎👎 👎👎👎👎👎\",\n",
       " 'Racist මේ app එක install කරන්න එපා. බුදුහාමුදුරුවන්ට නින්දා වෙන විදිහෙ sticker වගයක් තියනව.. There is sticker set named modern Buddha. Dont install this app. Stop making fun from any religion. Plz dont install this app.',\n",
       " \"Please remove Lord Buddha Sticker Please reove Lord Buddha stickers from your app. It's a insulting for a religion and don't do this for any religion.\",\n",
       " \"Shoutout to all the telegram haters I can't believe people could be so sensitive to a sticker pack that telegram made. If you guys are so deeply religious  this would not even bother you in the first place. It's a joke to see bad reviews base on this  there is nothing wrong with the sticker packs. It might be unusual and out of the ordinary  but it's totally fine and it does not insult the religion in any way.\",\n",
       " \"Insalt religions in this app Don't download it I hope This app create person Burn to die\",\n",
       " \"Umesh U don't have any right to insults any religion. You are insulting Load Buddha our religious leader. Not only that u are insulting Pope also. How gave you thr right to insult any religion? Are u that much ass hole?\",\n",
       " 'Very bad.they are making fun of religion',\n",
       " 'Bad I hate this app.bacause this app owner is used lord budhdhas pictures..dont use use this up anyone.its not good for budhdhist religion ever..',\n",
       " 'Remove MODERN BUDDHA Sticker Please remove modern Buddha strikers from stickers in this app. Please respect religions.',\n",
       " \"What is modern buddha... don't humiliate other religions... we very very respect to him.. but in this application humiliated to lord buddha...\",\n",
       " \"Not cool Buddha's teaching is the kindest religion on earth which could never harm or insult to anyone .so please remove those stickers called Modern Buddha which are insulting the teacher of our religion lord BUDDHA.\",\n",
       " \"I Removed it Don't make fun out of religions\",\n",
       " \"Hate it Remove modern buddha sticker pack. What is the problem with you our religion guy's?\",\n",
       " \"F*ck Remove the modern buddha stiker Don't dishonour to other religions Remove it\",\n",
       " 'There are lord buddha stickers.Are you getting fun from this? Buddhism is a religion and please remove it soon.',\n",
       " 'Bull යාළුවෙන් මේ අැප් එකේ අපේ බුදු හාමුදුරුවන්ට නින්දා වන විදියේ ස්ටිකර් වගයක් තියනවා. මේ අැප් එක රිපෝර්ට් කරන්න. Install කරන්න එපා.. I hate this. There is a Sticker set name Modern Buddha. Is our religion is trouble to you. Please romove it. I unstall this app.',\n",
       " 'This is Disrespect to our buddhist religion We All Report This App',\n",
       " 'Remove the modern buddha sticker pack Dont insult to other religions',\n",
       " 'Upset Pls remove sticker called modern buddah. That insult our religion.',\n",
       " \"please remove 'modern buddha' sticker set don't get a religion as a joke\",\n",
       " 'Remove \"\"\"\"\"\"\"\"Modern Buddha\"\"\"\"\"\"\"\" stiker pack The stiker pack is insulting our religion. Many of sri lankan people are alredy removed your app for that remove the stiker pack.\"\"',\n",
       " 'What a looser app This app inclueds our buddhas sticker pack we tell you for that very angry pls remove that sticker pack thats oure religious like a christian religions we are buddhist',\n",
       " \"Hate this...... It's a shame that Insulting & making fun with religions.uninstalled.buddists and christians report this.\",\n",
       " 'Please remove \"\"\"\"\"\"\"\"Modern Buddha\"\"\"\"\"\"\"\" sticker. Developers please remove the stickers called \"\"\"\"\"\"\"\"Modern Buddha\"\"\"\"\"\"\"\". Buddhism is our religion. So u take it down fast. Buddhism isnt\\' a joke. Please remove it.\"\"',\n",
       " 'Very bad. They are making fun of religions! You released a sticker pack called \"\"\"\"\"\"\"\"Modern Buddha\"\"\"\"\"\"\"\" and that\\'s not a good way to promote the app! And already me and my friends removed the app from every device we have the app installed. Never gonna use again!\"\"',\n",
       " \"This telegram app mekers are cheaters and gutless people. I think they are profane or none religions. Because a religion used theirs population. What is your problem with buddhism. You Can Insult BUDDHISM. But you can't destroy buddhism. We can abuse this rude people. But We Commiserate Them. May the triple geme bless you\",\n",
       " \"Urgently remove the modern buddha stickers pack!!???? 😶 @telegram there's a stickers pack which called 'modern buddha ' is insulating to our religion and pls remove that stickers urgently!!!👎👎 👎👎👎👎👎👎\",\n",
       " \"Talking about modern Buddha ...its so offensive Well...it might be hilarious for some people....... Especially who have no respect to any religion at all...but come on man its not cool to insult a religion like that that's being respected by the all the Buddhists worldwide... Just think if we made up a modern all mighty Allah or a Jesus............I have no idea what the hell were u guys thinking to bring up a concept like this..👎👎\",\n",
       " 'I hated it. I hate this app. Because there is a sticker pack named \"\"\"\"\"\"\"\"Modern Buddha\"\"\"\"\"\"\"\" It\\'s insulting our religion. Please be kind enough to pay attention and remove it.\"\"',\n",
       " \"Pls be mindful when you are adding stickers Pls be kind enough to remove our lord Buddha's stickers. I'm going to uninstall this app now. I saw some of guys have written that mentioned to ask Buddha to send a request to remove it. Pls don't show your stupidity to others mentioning those shame words. Be more careful when you create something related to any religion. As a human being respect to each others religion.\",\n",
       " \"Inappropriate Stickers If you have a problem with other religions please don't try to spread your sickness to others. Please remove those inappropriate stickers!\",\n",
       " 'Hate this Why does you insulting a religion or a religious leader.it must to be stopped.dont insult buddhisum.',\n",
       " \"Umesh U don't have any right to insults any religion. You are insulting Load Buddha our religious leader. Not only that u are insulting Pope also. Who gave you thr right to insult any religion? Are u that much ass hole?\",\n",
       " \"You don't mess with my religion\",\n",
       " \"We disappointed. Please remove Load BUDHDHAH stickers. Why are you doing like this. Don't joke with our religion.\",\n",
       " 'Devoloper is a Racist There are emojis containing lord buddhas pictures... how can these people be such to insult any other religion. RACIST DEVOLOPER !!',\n",
       " 'Best! Just add call and it will be perfect. Ignore hindy whining about budha stickers  fu**ing religion fanatics and subhumans i piss on your budha crap 💩💩💩💩',\n",
       " 'Hate it There is stickers called modern buddha.lord buddha is our religious leader.you have no right to insult our religion so remove that stickers.',\n",
       " 'Harming for religions Hate this',\n",
       " 'Stop insulting lord buddha Stop insulting others religion . How do you feel if someone start to play with your spiritual teacher .modern jesus modern alla. Stop insulting great teacher lord budda',\n",
       " \"Please remove the sticker buddha This is our religion.please don't use it as a sticker.Don't add any sticker of our religion.Why are you doing this?.As Sri Lankan buddist people we hate this.Don't do like this fool things! Sri lankawe katiya inawa nm mekata virudha wena!! Please remove this sticker buddha\",\n",
       " \"This telegram Buddha's stickrs mekers are cheaters and gutless people. I think they are profane or none religions. Because a religion used theirs population. What is your problem with buddhism. You Can Insult BUDDHISM. But you can't destroy buddhism. We can abuse this rude people. But We Commiserate Them. May the triple geme bless you\",\n",
       " \"To be honest  this is a great app... Lot of features and stuff. But the reason behind Why I hate this app is the Stickers. Why did u guys add a bunch of stickers with Lord Buddha in it... That's Disappointing. Seriously... It's a religion  have some respect..!\",\n",
       " \"don't play with a religion.. modern buddha sticker pack Remove from ur app 😡\",\n",
       " \"Urgently remove the modern buddha stickers pack!😶 @telegram there's a stickers pack which called 'modern buddha ' is insulating to our religion and pls remove that stickers urgently!!!!👎👎 👎👎👎👎👎👎\",\n",
       " 'Crap! If you respect religions in the world please dont use this.cuz the next religion that ll be disrespected from this will be your one.',\n",
       " 'Foor Stikers no genuine foor😖 Edit our religion plz dont use this',\n",
       " \"A terrible insult to lord buddha That sticker pack containing pictures of lord Buddha is the most terrible insult I have ever seen against Buddhism. Buddhists were calm and respected the right of other people to have their own religion s. But the religious extremists are now abusing that calmness. I know  the truth is a challenge against the dazzling of the myth. That's why those aggressive extremists are afraid of Buddhism. This is not a request!! This is an order!!!!! YOU MUST IMMEDIATELY REMOVE THAT STICKERS.\",\n",
       " 'Bad app.. stickers against religion',\n",
       " \"don't get a religion as a joke\",\n",
       " \"You dishonour our religion ( Buddhist) in your stickers... plz don't it...\"]"
      ]
     },
     "execution_count": 147,
     "metadata": {},
     "output_type": "execute_result"
    }
   ],
   "source": [
    "[t for t in texts if \"religion\" in t]"
   ]
  },
  {
   "cell_type": "code",
   "execution_count": null,
   "id": "published-unknown",
   "metadata": {},
   "outputs": [],
   "source": []
  }
 ],
 "metadata": {
  "kernelspec": {
   "display_name": "FewSampleClassifier",
   "language": "python",
   "name": "fewsampleclassifier"
  },
  "language_info": {
   "codemirror_mode": {
    "name": "ipython",
    "version": 3
   },
   "file_extension": ".py",
   "mimetype": "text/x-python",
   "name": "python",
   "nbconvert_exporter": "python",
   "pygments_lexer": "ipython3",
   "version": "3.7.9"
  },
  "toc-autonumbering": true
 },
 "nbformat": 4,
 "nbformat_minor": 5
}

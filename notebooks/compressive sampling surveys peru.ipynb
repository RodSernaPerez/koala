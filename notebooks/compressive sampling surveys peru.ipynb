{
 "cells": [
  {
   "cell_type": "code",
   "execution_count": 1,
   "id": "fitting-explanation",
   "metadata": {},
   "outputs": [],
   "source": [
    "import pandas as pd\n",
    "from tqdm import tqdm\n",
    "import numpy as np"
   ]
  },
  {
   "cell_type": "code",
   "execution_count": 2,
   "id": "mental-electronics",
   "metadata": {},
   "outputs": [
    {
     "name": "stderr",
     "output_type": "stream",
     "text": [
      "/home/rodri/PycharmProjects/ClasificacionSinMuestras/venv/lib/python3.7/site-packages/gensim/similarities/__init__.py:15: UserWarning: The gensim.similarities.levenshtein submodule is disabled, because the optional Levenshtein package <https://pypi.org/project/python-Levenshtein/> is unavailable. Install Levenhstein (e.g. `pip install python-Levenshtein`) to suppress this warning.\n",
      "  warnings.warn(msg)\n"
     ]
    }
   ],
   "source": [
    "import sys\n",
    "sys.path.insert(0, \"../\")\n",
    "from koala.preprocessing.lemmatizer import lemmatize_text\n",
    "from koala.preprocessing.vocabulary_reductor import VocabularyReductor"
   ]
  },
  {
   "cell_type": "code",
   "execution_count": 3,
   "id": "thorough-magnitude",
   "metadata": {},
   "outputs": [],
   "source": [
    "from sklearn.linear_model import LinearRegression\n",
    "from sklearn.metrics import r2_score"
   ]
  },
  {
   "cell_type": "code",
   "execution_count": 4,
   "id": "understood-least",
   "metadata": {},
   "outputs": [],
   "source": [
    "from spacy.lang.es.stop_words import STOP_WORDS\n"
   ]
  },
  {
   "cell_type": "markdown",
   "id": "latter-milton",
   "metadata": {},
   "source": [
    "# Data loading"
   ]
  },
  {
   "cell_type": "code",
   "execution_count": 5,
   "id": "adequate-kansas",
   "metadata": {},
   "outputs": [
    {
     "name": "stderr",
     "output_type": "stream",
     "text": [
      "/home/rodri/PycharmProjects/ClasificacionSinMuestras/venv/lib/python3.7/site-packages/IPython/core/interactiveshell.py:3156: DtypeWarning: Columns (10,13) have mixed types.Specify dtype option on import or set low_memory=False.\n",
      "  interactivity=interactivity, compiler=compiler, result=result)\n"
     ]
    }
   ],
   "source": [
    "pd_data = pd.read_csv(\"../data/HISTORICAL_ PE_PlayConsole_stats.xlsx - reviews.csv\")[[\"Star Rating\", \"Review Text\"]].dropna()"
   ]
  },
  {
   "cell_type": "code",
   "execution_count": 6,
   "id": "weighted-grove",
   "metadata": {},
   "outputs": [
    {
     "data": {
      "text/plain": [
       "27254"
      ]
     },
     "execution_count": 6,
     "metadata": {},
     "output_type": "execute_result"
    }
   ],
   "source": [
    "len(pd_data)"
   ]
  },
  {
   "cell_type": "code",
   "execution_count": 7,
   "id": "cloudy-brave",
   "metadata": {},
   "outputs": [],
   "source": [
    "texts = pd_data[\"Review Text\"].values\n",
    "targets = pd_data[\"Star Rating\"].values"
   ]
  },
  {
   "cell_type": "code",
   "execution_count": 8,
   "id": "amended-subsection",
   "metadata": {},
   "outputs": [
    {
     "name": "stdout",
     "output_type": "stream",
     "text": [
      "27254\n",
      "17078\n"
     ]
    }
   ],
   "source": [
    "print(len(texts))\n",
    "texts_indices = [i for i, t in enumerate(texts) if ((len(t.split()) > 6))]\n",
    "texts = [texts[i] for i in texts_indices]\n",
    "targets = [targets[i] for i in texts_indices]\n",
    "print(len(texts))"
   ]
  },
  {
   "cell_type": "code",
   "execution_count": 9,
   "id": "solved-ballot",
   "metadata": {},
   "outputs": [
    {
     "name": "stderr",
     "output_type": "stream",
     "text": [
      "100%|██████████| 17078/17078 [54:32<00:00,  5.22it/s] \n"
     ]
    }
   ],
   "source": [
    "texts = [lemmatize_text(t) for t in tqdm(texts)] \n"
   ]
  },
  {
   "cell_type": "code",
   "execution_count": 10,
   "id": "thrown-growth",
   "metadata": {},
   "outputs": [
    {
     "name": "stdout",
     "output_type": "stream",
     "text": [
      "Building word embedding\n",
      "Vocab reduction function crated with 124 terms in dict\n",
      "Building word embedding\n",
      "Vocab reduction function crated with 27 terms in dict\n"
     ]
    }
   ],
   "source": [
    "vr = VocabularyReductor(\"surveys_peru\").get_vocab_reductor(texts)"
   ]
  },
  {
   "cell_type": "code",
   "execution_count": 11,
   "id": "brazilian-regard",
   "metadata": {},
   "outputs": [
    {
     "name": "stdout",
     "output_type": "stream",
     "text": [
      "es un app super seguro ya que contar con el tecnología de huella digital , también es muy útil ya que tener un tecnología mas agil y eficaz ya que no es necesario salir y volver para escoger el servicio para pagar o transferir , puedes realizar todo des un solo pantalla . estoy muy contenta , sugerir que colocar el opción de reclamo y estaría perfecto .\n",
      "es un app muy seguro ya que contar con el tecnología de huella digital , también es muy útil ya que tener un tecnología más agil y eficaz ya que no es necesario salir y volver para escoger el servicio para pagar o transferir , puedes hacer todo des un solo pantalla , estoy muy contenta , sugerir que colocar el opción de reclamo y estaría perfecto ,\n",
      "===========================\n",
      "desde que se actualizar no me permitir abrir el aplicativo por qué ahí mismo se cerrar , tener que estar desinstalar e instalar parq poder ingresar ... pero solo me permitir un vez tener acceso , luego persisto con el mismo problema de no poder ingresar .\n",
      "desde que se actualizar no me dejar ingresar el app por qué ahí mismo se cerrar , tener que estar desinstalar e instalar parq poder ingresar ... pero solo me dejar un vez tener acceso , luego persisto con el mismo problema de no poder ingresar ,\n",
      "===========================\n",
      "sólo pude abrir el app un solo vez luego de este actualización . he tratar de acceder posteriormente y no se puede , nunca carga completamente .\n",
      "sólo puedo ingresar el app un solo vez luego de este actualización , he tratar de ingresar posteriormente y no se puede , nunca carga completamente ,\n",
      "===========================\n",
      "no puedo ver mis movimiento no querer actualizar nada no querer ni m ....\n",
      "no puedo ver mis movimiento no querer actualizar nada no querer ni m ....\n",
      "===========================\n",
      "el nueva actualización es pésimo , no se comparar en nada a el anterior . deberían de mejorar y tener usuario contentos\n",
      "el nueva actualización es pésimo , no se comparar en nada a el anterior , deberían de mejorar y tener usuario contentos\n",
      "===========================\n"
     ]
    }
   ],
   "source": [
    "import random\n",
    "for _ in range(5):\n",
    "    i = random.randint(0,len(texts))\n",
    "    print(texts[i])\n",
    "    print(vr(texts[i]))\n",
    "    print(\"===========================\")"
   ]
  },
  {
   "cell_type": "code",
   "execution_count": 12,
   "id": "induced-cooking",
   "metadata": {},
   "outputs": [],
   "source": [
    "texts = [vr(t) for t in texts]"
   ]
  },
  {
   "cell_type": "code",
   "execution_count": 13,
   "id": "equal-peoples",
   "metadata": {},
   "outputs": [],
   "source": [
    "import pickle\n",
    "\n",
    "with open('lemmatized_texts.pickle', 'wb') as handle:\n",
    "    pickle.dump(texts, handle, protocol=pickle.HIGHEST_PROTOCOL)"
   ]
  },
  {
   "cell_type": "code",
   "execution_count": 14,
   "id": "trained-trustee",
   "metadata": {},
   "outputs": [],
   "source": [
    "import pickle\n",
    "with open('lemmatized_texts.pickle', 'rb') as handle:\n",
    "    texts = pickle.load(handle)"
   ]
  },
  {
   "cell_type": "code",
   "execution_count": 200,
   "id": "chronic-bradley",
   "metadata": {},
   "outputs": [],
   "source": [
    "from spellchecker import SpellChecker\n",
    "spell = SpellChecker(language='es')  # use the Spanish Dictionary\n",
    "DICT_MISSPELLED = {}\n",
    "def correct_misspelled(text):\n",
    "    misspelled = spell.unknown(text.split())\n",
    "    for t in misspelled:\n",
    "        if t in DICT_MISSPELLED.keys():\n",
    "            rep = DICT_MISSPELLED[t]\n",
    "        else:\n",
    "            rep = spell.correction(t)\n",
    "            DICT_MISSPELLED[t] = rep\n",
    "        text = text.replace(t, rep)\n",
    "    return text\n",
    "def is_correct(text):\n",
    "    return len(list(spell.unknown(text.split()))) == 0\n"
   ]
  },
  {
   "cell_type": "code",
   "execution_count": 44,
   "id": "disabled-flood",
   "metadata": {},
   "outputs": [
    {
     "name": "stdout",
     "output_type": "stream",
     "text": [
      "['Solo me sirve para ver mis movimientos, pero desde que cambié de equipo no me permite activar el Token Digital, a pesar que ya actualicé mi información en el cajero automático. Si no te permite hacer transferencias, es una App innecesaria.', 'Fácil manejo de operaciones y control detallado de ingresos y gastos. Ahorro de tiempo y control eficiente de tus finanzas personales.', 'Sres. en la aplicación me sale en estos momentos no podemos atenderlo cuando porno mi numero DNI y contraseña 😠😠😠', 'Todo ok hasta que cambie de celular. Cuando ingreso a activar el token digital, nunca me envía el sms . Deben corregir eso.', 'Monse xq no puedo activar mi toque digital']\n"
     ]
    }
   ],
   "source": [
    "print(texts[:5])"
   ]
  },
  {
   "cell_type": "code",
   "execution_count": 45,
   "id": "handled-liberia",
   "metadata": {},
   "outputs": [
    {
     "name": "stderr",
     "output_type": "stream",
     "text": [
      "100%|██████████| 17078/17078 [00:00<00:00, 339800.68it/s]\n"
     ]
    }
   ],
   "source": [
    "from functools import reduce\n",
    "special_chars = {\".\": \" \", \",\": \" \", \n",
    "                 \"(\": \" \", \n",
    "                 \")\": \" \",\n",
    "                 \"!\": \" \",\n",
    "                 \"¡\": \" \",\n",
    "                 \"á\": \"a\", \"é\": \"e\", \"í\": \"i\", \"ó\": \"o\", \"ú\": \"U\"}\n",
    "def preprocess(text):\n",
    "    #text = correct_misspelled(text)\n",
    "    text = reduce(lambda t, c: t.replace(c[0], c[1]), special_chars.items(), text)\n",
    "    return text\n",
    "texts = [preprocess(t) for t in tqdm(texts)]"
   ]
  },
  {
   "cell_type": "code",
   "execution_count": 46,
   "id": "banner-empire",
   "metadata": {},
   "outputs": [],
   "source": [
    "from gensim.models.phrases import Phrases\n",
    "phrase_model = Phrases([t.split() for t in texts], min_count=10, threshold=2.5)"
   ]
  },
  {
   "cell_type": "code",
   "execution_count": 47,
   "id": "sized-detection",
   "metadata": {},
   "outputs": [
    {
     "name": "stdout",
     "output_type": "stream",
     "text": [
      "['Es_muy', 'util', 'y', 'rapido', 'el_servicio', 'banca_movil']\n",
      "['Hace', '5', 'meses', 'que', 'no_puedo', 'ingresar', 'y', 'no', 'me_dan', 'solucion', 'respectuva', 'fui', 'agencia', 'y', 'me_dicen', 'que', 'hay', 'error', 'de', 'sistema', 'que', 'llame_a', 'la', 'operadora', 'vulvo', 'a', 'llamar', 'y', 'siempre', 'me_dicen', 'los', 'mimso', 'que_vuelva', 'a_intentar', 'en_unos', 'dias', 'que', 'es', 'por', 'eror', 'de', 'sistema', 'y', 'hasta', 'el_dia', 'de', 'hoy', 'persistente', 'el_problema']\n",
      "['Porqueria_de', 'aplicacion', 'no', 'me_deja', 'realizar_ninguna', 'operacion', 'nisiquiera', 'una_transferencia', 'voy_a', 'sacar', 'todo', 'mi_dinero', 'y', 'a', 'cancelara', 'esta', 'porqueria', 'se_supone', 'q', 'la_app', 'es', 'para', 'evitarse', 'ir_al', 'banco', 'a', 'hacer', 'grandes', 'colas', 'pero', 'no', 'estos', 'grandisimos', 'animales', 'nose', 'sabe', 'que', 'hacen', 'pero', 'sienpre', 'la', 'cagan', 'ni', 'mas', 'con_este', 'banco', 'los', 'denunciare', 'a', 'Indecopi']\n",
      "['Tiene', 'algunas', 'restricciones', 'en', 'transferencia', 'de', 'otro', 'bancos', 'pesimo', 'tarda', 'mucho']\n",
      "['Pesimo', 'me_pide', 'a_cada', 'nada', 'actualizar', '🤦\\u200d♂️']\n"
     ]
    }
   ],
   "source": [
    "\n",
    "def tokenizer(text):\n",
    "    x = text.split()\n",
    "    for _ in range(2):\n",
    "        x = phrase_model[x]\n",
    "    return x\n",
    "for i in range(20,25):\n",
    "    print(tokenizer(texts[i]))"
   ]
  },
  {
   "cell_type": "code",
   "execution_count": 48,
   "id": "alive-validity",
   "metadata": {},
   "outputs": [],
   "source": [
    "from sklearn.model_selection import train_test_split\n",
    "texts_train, texts_test, y_train, y_test = train_test_split(texts, targets, train_size=0.85)\n"
   ]
  },
  {
   "cell_type": "markdown",
   "id": "functioning-specialist",
   "metadata": {},
   "source": [
    "# Feature generation"
   ]
  },
  {
   "cell_type": "code",
   "execution_count": 49,
   "id": "arctic-original",
   "metadata": {},
   "outputs": [
    {
     "data": {
      "text/plain": [
       "(14516, 1379)"
      ]
     },
     "execution_count": 49,
     "metadata": {},
     "output_type": "execute_result"
    }
   ],
   "source": [
    "from sklearn.feature_extraction.text import CountVectorizer\n",
    "cv = CountVectorizer(min_df=20, ngram_range=(1, 2),\n",
    "                    stop_words=STOP_WORDS.union({\"excelente\", \"bueno\"}))\n",
    "X_train = cv.fit_transform(texts_train)\n",
    "X_train.shape"
   ]
  },
  {
   "cell_type": "code",
   "execution_count": 50,
   "id": "polyphonic-truck",
   "metadata": {},
   "outputs": [],
   "source": [
    "X_test = cv.transform(texts_test)"
   ]
  },
  {
   "cell_type": "markdown",
   "id": "stylish-conference",
   "metadata": {},
   "source": [
    "# Linear Regressor"
   ]
  },
  {
   "cell_type": "code",
   "execution_count": 51,
   "id": "handy-fourth",
   "metadata": {},
   "outputs": [],
   "source": [
    "lr = LinearRegression().fit(X_train, y_train)"
   ]
  },
  {
   "cell_type": "code",
   "execution_count": 52,
   "id": "whole-trance",
   "metadata": {},
   "outputs": [
    {
     "name": "stdout",
     "output_type": "stream",
     "text": [
      "Training score:  0.3473681075270456\n",
      "Test score:  0.20486613376951912\n"
     ]
    }
   ],
   "source": [
    "print(\"Training score: \", r2_score(y_train, lr.predict(X_train)))\n",
    "print(\"Test score: \", r2_score(y_test, lr.predict(X_test)))"
   ]
  },
  {
   "cell_type": "code",
   "execution_count": 53,
   "id": "challenging-fellow",
   "metadata": {},
   "outputs": [
    {
     "name": "stdout",
     "output_type": "stream",
     "text": [
      "MOST IMPORTANT 20 words\n"
     ]
    },
    {
     "data": {
      "text/plain": [
       "[('encanta', 1.955477392068662),\n",
       " ('exelente', 1.8304742446494335),\n",
       " ('sigan', 1.7458088286119544),\n",
       " ('doy estrellas', 1.2464119075606659),\n",
       " ('facilita', 1.1885046366618561),\n",
       " ('segura', 1.0582534544631914),\n",
       " ('play', 0.9633108643893294),\n",
       " ('genial', 0.9555125310392966),\n",
       " ('den solucion', 0.9495324442317168),\n",
       " ('activacion digital', -0.9328070390246064),\n",
       " ('media hora', -0.9231063445794985),\n",
       " ('recomendable', 0.919014712928766),\n",
       " ('util', 0.8547129634693594),\n",
       " ('perfecto', 0.8535691562620091),\n",
       " ('atencion', 0.8473435309042614),\n",
       " ('mejorado', 0.8457907143202277),\n",
       " ('seguro', 0.8407893835642324),\n",
       " ('ok', 0.8372424555585958),\n",
       " ('programa', 0.8252521922097962),\n",
       " ('gracias bbva', 0.8243432143810956)]"
      ]
     },
     "execution_count": 53,
     "metadata": {},
     "output_type": "execute_result"
    }
   ],
   "source": [
    "n_important_words = 20\n",
    "print(\"MOST IMPORTANT {} words\".format(n_important_words))\n",
    "sorted(list(list(zip(cv.get_feature_names(), lr.coef_))), key=lambda x: abs(x[1]), reverse=True)[:n_important_words]"
   ]
  },
  {
   "cell_type": "markdown",
   "id": "expanded-drove",
   "metadata": {},
   "source": [
    "# OMP"
   ]
  },
  {
   "cell_type": "code",
   "execution_count": 54,
   "id": "virtual-rochester",
   "metadata": {},
   "outputs": [
    {
     "name": "stderr",
     "output_type": "stream",
     "text": [
      "/home/rodri/PycharmProjects/ClasificacionSinMuestras/venv/lib/python3.7/site-packages/ipykernel_launcher.py:11: RuntimeWarning: invalid value encountered in true_divide\n",
      "  # This is added back by InteractiveShellApp.init_path()\n"
     ]
    }
   ],
   "source": [
    "from sklearn.linear_model import OrthogonalMatchingPursuit\n",
    "from sklearn.preprocessing import StandardScaler\n",
    "from sklearn.pipeline import Pipeline\n",
    "\n",
    "X_train_norm = X_train.toarray()\n",
    "X_test_norm = X_test.toarray()\n",
    "higher_norm = max([np.linalg.norm(X_train_norm[:, i]) for i in range(X_train.shape[1])])\n",
    "       \n",
    "for i in range(X_train.shape[1]):\n",
    "    X_train_norm[:, i] = X_train_norm[:, i] * higher_norm / np.linalg.norm(X_train_norm[:, i])\n",
    "    X_test_norm[:, i] = X_test_norm[:, i] * higher_norm / np.linalg.norm(X_test_norm[:, i])"
   ]
  },
  {
   "cell_type": "code",
   "execution_count": 63,
   "id": "periodic-wealth",
   "metadata": {},
   "outputs": [],
   "source": [
    "from sklearn.model_selection import GridSearchCV\n",
    "\n",
    "omp = OrthogonalMatchingPursuit(n_nonzero_coefs=50)\n",
    "\n",
    "gcv = GridSearchCV(omp, param_grid={\"n_nonzero_coefs\": range(50, 300, 50)}, scoring=\"r2\").fit(X_train_norm, y_train)"
   ]
  },
  {
   "cell_type": "code",
   "execution_count": 64,
   "id": "listed-theater",
   "metadata": {},
   "outputs": [
    {
     "data": {
      "text/plain": [
       "{'n_nonzero_coefs': 200}"
      ]
     },
     "execution_count": 64,
     "metadata": {},
     "output_type": "execute_result"
    }
   ],
   "source": [
    "gcv.best_params_"
   ]
  },
  {
   "cell_type": "code",
   "execution_count": 65,
   "id": "appropriate-adaptation",
   "metadata": {},
   "outputs": [
    {
     "name": "stdout",
     "output_type": "stream",
     "text": [
      "Training score:  0.09177386908572549\n",
      "Test score:  0.08293260478323128\n"
     ]
    }
   ],
   "source": [
    "print(\"Training score: \", r2_score(y_train, gcv.predict(X_train.toarray())))\n",
    "print(\"Test score: \", r2_score(y_test, gcv.predict(X_test.toarray())))"
   ]
  },
  {
   "cell_type": "code",
   "execution_count": 66,
   "id": "million-anderson",
   "metadata": {},
   "outputs": [
    {
     "data": {
      "text/plain": [
       "[('pesima', -0.2076846555278469),\n",
       " ('actualizacion', -0.18625034369942498),\n",
       " ('pesimo', -0.18425513860407536),\n",
       " ('facil', 0.1712039785354156),\n",
       " ('encanta', 0.16060217293543716),\n",
       " ('version', -0.1601268673516938),\n",
       " ('gracias', 0.14805264906196025),\n",
       " ('mala', -0.1408227358618903),\n",
       " ('exelente', 0.1233216645997422),\n",
       " ('util', 0.12180585850288748),\n",
       " ('facilita', 0.11676866504373676),\n",
       " ('atencion', 0.10489373308676171),\n",
       " ('segura', 0.10338991059846014),\n",
       " ('genial', 0.09690124116149251),\n",
       " ('ingresar', -0.09283481803067897),\n",
       " ('sirve', -0.091718925232076),\n",
       " ('entrar', -0.08827533173482081),\n",
       " ('horrible', -0.08788241793768868),\n",
       " ('porqueria', -0.08772788681750622),\n",
       " ('seguro', 0.08639643613867401),\n",
       " ('lenta', -0.08259315176480392),\n",
       " ('sigan', 0.08188451088651937),\n",
       " ('ningun problema', 0.08160654676854219),\n",
       " ('recomiendo', 0.07990934338034064),\n",
       " ('app', -0.07812525961438788),\n",
       " ('rapida', 0.07697524602985212),\n",
       " ('casa', 0.07695056001326261),\n",
       " ('desastre', -0.07455845634153473),\n",
       " ('queda', -0.07279450527161758),\n",
       " ('rapido', 0.07191816118716254),\n",
       " ('demora', -0.0704551394492224),\n",
       " ('malisima', -0.0684445483338388),\n",
       " ('sale', -0.06781250250661745),\n",
       " ('token', -0.0663920563402689),\n",
       " ('doy estrellas', 0.06610766718372994),\n",
       " ('asco', -0.06579811929756045),\n",
       " ('prefiero', -0.06533362167120223),\n",
       " ('pagar', -0.06472183147966683),\n",
       " ('terrible', -0.06461201025094968),\n",
       " ('abrir', -0.06228997100882481),\n",
       " ('aplicativo', -0.06134815519790077),\n",
       " ('abre', -0.061137213297244565),\n",
       " ('descargar', -0.060892464432960744),\n",
       " ('colas', 0.05865895164898378),\n",
       " ('basura', -0.058327790482518134),\n",
       " ('actualizar', -0.05692197845840859),\n",
       " ('carga', -0.056730863304770035),\n",
       " ('estrella', -0.054226165877095354),\n",
       " ('ok', 0.05421642610006311),\n",
       " ('ayuda', 0.05386857793780162),\n",
       " ('perfecto', 0.05363801245320995),\n",
       " ('decepcion', -0.05319926561829316),\n",
       " ('falta', 0.052954869452833724),\n",
       " ('tonteria', -0.05181777224163929),\n",
       " ('aplicacion', -0.05158992536589077),\n",
       " ('lento', -0.051385876078471684),\n",
       " ('cuelga', -0.05105542807322104),\n",
       " ('seguridad', 0.0508911490265411),\n",
       " ('eficiente', 0.05019131699552573),\n",
       " ('wallet', 0.04949189087070599),\n",
       " ('deja', -0.04942370074069833),\n",
       " ('red', -0.04928864259064213),\n",
       " ('inconveniente', 0.049044035892435035),\n",
       " ('atencion cliente', -0.04780983824521165),\n",
       " ('transferencias', -0.047282692276711655),\n",
       " ('tramites', 0.04717472498744855),\n",
       " ('recomendable', 0.04710591244651774),\n",
       " ('gracias bbva', 0.046883942936854585),\n",
       " ('intentando', -0.045246915531402344),\n",
       " ('confusa', -0.04437166853253084),\n",
       " ('permite', -0.043963504594097536),\n",
       " ('solucionen', -0.04304068292586263),\n",
       " ('bitel', 0.042753788718017646),\n",
       " ('hacerla', 0.0427183748840756),\n",
       " ('llega clave', -0.04261536029400323),\n",
       " ('regresen', -0.042441887869081374),\n",
       " ('app lukita', 0.0423718129670629),\n",
       " ('clientes', -0.04223291786483077),\n",
       " ('urgente', -0.041984848571438534),\n",
       " ('mejorado', 0.041874511056248835),\n",
       " ('gusta', 0.04182564412295602),\n",
       " ('vida', 0.04179284644955876),\n",
       " ('movil', 0.04129522950418778),\n",
       " ('semana', -0.04128517118587666),\n",
       " ('complicada', -0.04095251568756396),\n",
       " ('malisimo', -0.04090658654821401),\n",
       " ('solucion', -0.040874646620708034),\n",
       " ('gustaria', 0.04086474269628305),\n",
       " ('amigable', -0.04007487521572434),\n",
       " ('fatal', -0.03995317132193013),\n",
       " ('actualizaron', -0.039827463002040306),\n",
       " ('agua', 0.03944242042944565),\n",
       " ('hola', 0.03927090980748073),\n",
       " ('dificil', -0.039176450140632736),\n",
       " ('instalar', -0.03916199629038657),\n",
       " ('aceptar', -0.038688630907751584),\n",
       " ('pongan', -0.038677824730257125),\n",
       " ('regrese', -0.0385697167245913),\n",
       " ('ningun', -0.038350815097485974),\n",
       " ('semanas', -0.03812714844435448),\n",
       " ('afiliarme', -0.03751274939821457),\n",
       " ('saludos', 0.037512648258460395),\n",
       " ('pude', 0.0371980859172051),\n",
       " ('funcione', -0.03678928292858265),\n",
       " ('comentarios', -0.03676844388512133),\n",
       " ('pasa', -0.036691647754349854),\n",
       " ('ayudarme', -0.036506833705746256),\n",
       " ('supone', -0.03617811352763985),\n",
       " ('complicado', -0.035990787312760786),\n",
       " ('programa', 0.035933100144780745),\n",
       " ('llamo', -0.03591719754269915),\n",
       " ('fallas', -0.03564371152003362),\n",
       " ('recien', 0.035487810246263456),\n",
       " ('cambiare', -0.03526820249335566),\n",
       " ('huella digital', 0.03488108481769057),\n",
       " ('siquiera', -0.03482404787813607),\n",
       " ('cambiar', -0.03448650830817687),\n",
       " ('arreglen', -0.03434560171570453),\n",
       " ('acceder app', -0.03420275109621359),\n",
       " ('comprar', -0.03404945786552786),\n",
       " ('reinicia', -0.03359170993997676),\n",
       " ('perdida', -0.033510193846858084),\n",
       " ('espacio', -0.033067103234901196),\n",
       " ('empeoraron', -0.03304314364424126),\n",
       " ('version rapida', -0.03295365051001269),\n",
       " ('espero puedan', -0.03283077081585813),\n",
       " ('maximo', 0.03277533274415757),\n",
       " ('complica', -0.03276009855821447),\n",
       " ('correos', -0.032715593922810586),\n",
       " ('bancarias', 0.032670283500259606),\n",
       " ('cierra', -0.032207056994608234),\n",
       " ('rato', -0.0319940104343959),\n",
       " ('incomodo', -0.03196211451390026),\n",
       " ('desgracia', -0.03191359543842047),\n",
       " ('continental', 0.031596871378152334),\n",
       " ('transferencia', -0.03152252801962872),\n",
       " ('necesita', -0.03143954111935746),\n",
       " ('facil utilizar', 0.031239714726734306),\n",
       " ('lastima', -0.03121001498068141),\n",
       " ('app pesima', 0.03106649930565477),\n",
       " ('app actualizacion', 0.030935629817602214),\n",
       " ('validar', -0.030884746085386782),\n",
       " ('malograron', -0.03079787170770059),\n",
       " ('quiero', -0.030743713752304284),\n",
       " ('pagar tarjeta', 0.030650244298556895),\n",
       " ('solucionenlo', -0.030633896328194906),\n",
       " ('cache', 0.03053914478628458),\n",
       " ('actualice', -0.03039642398320041),\n",
       " ('simple', -0.03035363362078546),\n",
       " ('mejores', 0.030212711173810535),\n",
       " ('aveces', 0.030174958881934232),\n",
       " ('sale opcion', 0.030109761887316518),\n",
       " ('app bancos', 0.029907943442664293),\n",
       " ('inutil', -0.029665320813233947),\n",
       " ('completamente', -0.029224391525975998),\n",
       " ('20', 0.02907412452536778),\n",
       " ('actual', -0.029051154033295282),\n",
       " ('pense', -0.02904751229107464),\n",
       " ('ingresar banca', -0.029031915559408334),\n",
       " ('esperar', -0.028965118312258318),\n",
       " ('facilidades', 0.028759657880638275),\n",
       " ('ingresa', -0.028710328748380188),\n",
       " ('descarga', -0.02869831052691147),\n",
       " ('respuesta', -0.02862691530933767),\n",
       " ('consulta', 0.028301174433012267),\n",
       " ('perder', -0.028262272074979913),\n",
       " ('app lento', 0.02815376471644386),\n",
       " ('indica', -0.028047383603043933),\n",
       " ('aparece', -0.028039496394372636),\n",
       " ('funciones', 0.027913849576045743),\n",
       " ('regresar', -0.02790768640456134),\n",
       " ('pc', 0.02788737918404116),\n",
       " ('den solucion', 0.02782031291087205),\n",
       " ('esperando', -0.027678312556168854),\n",
       " ('confirmacion', -0.02767494742221906),\n",
       " ('100', 0.027659689241599696),\n",
       " ('version facil', -0.027647972210020882),\n",
       " ('mensaje', -0.027480551552443454),\n",
       " ('demoran', -0.027362145574588496),\n",
       " ('escribi', -0.02731762438268437),\n",
       " ('aparecer', 0.027293003637964337),\n",
       " ('pedir', -0.02692077015133389),\n",
       " ('ponen', -0.026790421424378184),\n",
       " ('lamentable', -0.026755968204897174),\n",
       " ('lamentablemente', -0.026676453961352573),\n",
       " ('decepcionante', -0.026644456721422242),\n",
       " ('activacion digital', -0.02651456410045281),\n",
       " ('llegan', -0.026416972480131945),\n",
       " ('retirar', 0.02628145802516295),\n",
       " ('app ayuda', 0.026031431146993432),\n",
       " ('malo', 0.025903915888404298),\n",
       " ('confiable', 0.025829212217331136),\n",
       " ('fea', -0.02572163421309151),\n",
       " ('podido', -0.025603408407782923),\n",
       " ('descargue', -0.025503113536225596),\n",
       " ('cero', -0.02541922772446777),\n",
       " ('nisiquiera', -0.025048405134351602),\n",
       " ('cambios', -0.024562272302999608),\n",
       " ('registrarme', -0.02438597709829237),\n",
       " ('retiro', -0.023374644143679523)]"
      ]
     },
     "execution_count": 66,
     "metadata": {},
     "output_type": "execute_result"
    }
   ],
   "source": [
    "sorted(list(filter(lambda x: x[1] != 0, list(zip(cv.get_feature_names(), gcv.best_estimator_.coef_)))), key=lambda x: abs(x[1]), reverse=True) "
   ]
  },
  {
   "cell_type": "code",
   "execution_count": null,
   "id": "metropolitan-electron",
   "metadata": {},
   "outputs": [],
   "source": []
  }
 ],
 "metadata": {
  "kernelspec": {
   "display_name": "FewSampleClassifier",
   "language": "python",
   "name": "fewsampleclassifier"
  },
  "language_info": {
   "codemirror_mode": {
    "name": "ipython",
    "version": 3
   },
   "file_extension": ".py",
   "mimetype": "text/x-python",
   "name": "python",
   "nbconvert_exporter": "python",
   "pygments_lexer": "ipython3",
   "version": "3.7.9"
  }
 },
 "nbformat": 4,
 "nbformat_minor": 5
}

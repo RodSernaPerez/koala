{
 "cells": [
  {
   "cell_type": "code",
   "execution_count": 26,
   "id": "beginning-proxy",
   "metadata": {},
   "outputs": [
    {
     "name": "stderr",
     "output_type": "stream",
     "text": [
      "  0%|          | 0/13 [00:28<?, ?it/s]\n"
     ]
    }
   ],
   "source": [
    "import numpy as np\n",
    "import matplotlib.pyplot as plt"
   ]
  },
  {
   "cell_type": "code",
   "execution_count": 1,
   "id": "restricted-aging",
   "metadata": {},
   "outputs": [
    {
     "name": "stderr",
     "output_type": "stream",
     "text": [
      "Using custom data configuration default\n",
      "Reusing dataset app_reviews (/home/rodri/.cache/huggingface/datasets/app_reviews/default/0.0.0/af305ac963fd8dff5976dd341e97edf3a2933c3509a58885caace361c5cd3fe3)\n"
     ]
    }
   ],
   "source": [
    "from datasets import load_dataset\n",
    "\n",
    "dataset = load_dataset(\"app_reviews\")"
   ]
  },
  {
   "cell_type": "code",
   "execution_count": 2,
   "id": "engaged-daily",
   "metadata": {},
   "outputs": [
    {
     "data": {
      "text/plain": [
       "Dataset({\n",
       "    features: ['package_name', 'review', 'date', 'star'],\n",
       "    num_rows: 288065\n",
       "})"
      ]
     },
     "execution_count": 2,
     "metadata": {},
     "output_type": "execute_result"
    }
   ],
   "source": [
    "dataset[\"train\"]"
   ]
  },
  {
   "cell_type": "code",
   "execution_count": 5,
   "id": "direct-cassette",
   "metadata": {},
   "outputs": [
    {
     "data": {
      "text/plain": [
       "[('com.google.android.gms', 103535),\n",
       " ('org.telegram.messenger', 22816),\n",
       " ('org.ppsspp.ppsspp', 9771),\n",
       " ('com.frostwire.android', 8867),\n",
       " ('com.google.android.marvin.talkback', 7807),\n",
       " ('org.wikipedia', 5410),\n",
       " ('net.sourceforge.opencamera', 3992),\n",
       " ('org.wordpress.android', 3200),\n",
       " ('com.google.android.apps.authenticator2', 2976),\n",
       " ('org.torproject.android', 2941)]"
      ]
     },
     "execution_count": 5,
     "metadata": {},
     "output_type": "execute_result"
    }
   ],
   "source": [
    "sorted(zip(*np.unique(dataset[\"train\"][\"package_name\"], return_counts=True)), key=lambda x: x[1], reverse=True)[:10]"
   ]
  },
  {
   "cell_type": "code",
   "execution_count": 6,
   "id": "closed-vienna",
   "metadata": {},
   "outputs": [
    {
     "name": "stdout",
     "output_type": "stream",
     "text": [
      "SELECTED PACKAGE:  org.telegram.messenger\n"
     ]
    }
   ],
   "source": [
    "package = 'org.telegram.messenger'\n",
    "print(\"SELECTED PACKAGE: \", package)\n",
    "texts_of_package = [i for i, x in enumerate(dataset[\"train\"][\"package_name\"]) if x == package]"
   ]
  },
  {
   "cell_type": "code",
   "execution_count": 7,
   "id": "conservative-narrative",
   "metadata": {},
   "outputs": [
    {
     "name": "stdout",
     "output_type": "stream",
     "text": [
      "Number of samples:  22816\n"
     ]
    }
   ],
   "source": [
    "texts = np.asarray(dataset['train']['review'])[texts_of_package]\n",
    "targets = np.asarray(dataset['train']['star'])[texts_of_package]\n",
    "print(\"Number of samples: \", len(texts))"
   ]
  },
  {
   "cell_type": "code",
   "execution_count": 37,
   "id": "matched-hypothesis",
   "metadata": {},
   "outputs": [],
   "source": [
    "from sklearn.feature_extraction.text import CountVectorizer\n",
    "\n",
    "stopwords = []\n",
    "cv = CountVectorizer(\n",
    "    ngram_range=(1, 2), # Se generan n-gramas de hasta 3 tokens\n",
    "    min_df=100, # Solo se tomarán las palabras que aparezcan al menos un número mínimo de veces\n",
    "    stop_words=stopwords\n",
    ")\n",
    "X_train = cv.fit_transform(list(set(texts)))"
   ]
  },
  {
   "cell_type": "code",
   "execution_count": 38,
   "id": "bibliographic-change",
   "metadata": {},
   "outputs": [
    {
     "data": {
      "text/plain": [
       "<16937x325 sparse matrix of type '<class 'numpy.int64'>'\n",
       "\twith 125278 stored elements in Compressed Sparse Row format>"
      ]
     },
     "execution_count": 38,
     "metadata": {},
     "output_type": "execute_result"
    }
   ],
   "source": [
    "X_train"
   ]
  },
  {
   "cell_type": "markdown",
   "id": "artistic-encyclopedia",
   "metadata": {},
   "source": [
    "# Clustering spectral"
   ]
  },
  {
   "cell_type": "code",
   "execution_count": 39,
   "id": "signed-boxing",
   "metadata": {},
   "outputs": [],
   "source": [
    "from sklearn.cluster import SpectralClustering\n",
    "from sklearn.metrics import mutual_info_score as MI\n",
    "\n",
    "def get_measures_for_parameters(n, matrix_1, matrix_2):\n",
    "    clusterer = SpectralClustering(n)\n",
    "    clusters_1 = clusterer.fit_predict(matrix_1)\n",
    "    clusters_2 = clusterer.fit_predict(matrix_2)\n",
    "\n",
    "    min_n_users_1 = min(np.unique(clusters_1, return_counts=True)[1])\n",
    "    min_n_users_2 = min(np.unique(clusters_2, return_counts=True)[1])\n",
    "\n",
    "    return MI(clusters_1, clusters_2), min(min_n_users_1, min_n_users_2)\n"
   ]
  },
  {
   "cell_type": "code",
   "execution_count": 40,
   "id": "incorporated-negotiation",
   "metadata": {},
   "outputs": [
    {
     "data": {
      "text/plain": [
       "(1.6064300211527174e-05, 1)"
      ]
     },
     "execution_count": 40,
     "metadata": {},
     "output_type": "execute_result"
    }
   ],
   "source": [
    "get_measures_for_parameters(3, X_train[:500, :], X_train[-500:, :])"
   ]
  },
  {
   "cell_type": "code",
   "execution_count": 35,
   "id": "detailed-cricket",
   "metadata": {},
   "outputs": [
    {
     "name": "stderr",
     "output_type": "stream",
     "text": [
      "  8%|▊         | 1/13 [09:23<1:52:39, 563.32s/it]/home/rodri/PycharmProjects/ClasificacionSinMuestras/venv/lib/python3.7/site-packages/sklearn/cluster/_kmeans.py:294: ConvergenceWarning: Number of distinct clusters (2) found smaller than n_clusters (3). Possibly due to duplicate points in X.\n",
      "  ).fit(X, sample_weight=sample_weight)\n",
      " 15%|█▌        | 2/13 [09:24<1:12:21, 394.73s/it]/home/rodri/PycharmProjects/ClasificacionSinMuestras/venv/lib/python3.7/site-packages/sklearn/cluster/_kmeans.py:294: ConvergenceWarning: Number of distinct clusters (2) found smaller than n_clusters (4). Possibly due to duplicate points in X.\n",
      "  ).fit(X, sample_weight=sample_weight)\n",
      " 23%|██▎       | 3/13 [09:25<46:06, 276.69s/it]  /home/rodri/PycharmProjects/ClasificacionSinMuestras/venv/lib/python3.7/site-packages/sklearn/cluster/_kmeans.py:294: ConvergenceWarning: Number of distinct clusters (2) found smaller than n_clusters (5). Possibly due to duplicate points in X.\n",
      "  ).fit(X, sample_weight=sample_weight)\n",
      " 31%|███       | 4/13 [09:28<29:09, 194.35s/it]/home/rodri/PycharmProjects/ClasificacionSinMuestras/venv/lib/python3.7/site-packages/sklearn/cluster/_kmeans.py:294: ConvergenceWarning: Number of distinct clusters (2) found smaller than n_clusters (6). Possibly due to duplicate points in X.\n",
      "  ).fit(X, sample_weight=sample_weight)\n",
      " 38%|███▊      | 5/13 [09:30<18:13, 136.67s/it]/home/rodri/PycharmProjects/ClasificacionSinMuestras/venv/lib/python3.7/site-packages/sklearn/cluster/_kmeans.py:294: ConvergenceWarning: Number of distinct clusters (2) found smaller than n_clusters (7). Possibly due to duplicate points in X.\n",
      "  ).fit(X, sample_weight=sample_weight)\n",
      " 46%|████▌     | 6/13 [09:32<11:14, 96.31s/it] /home/rodri/PycharmProjects/ClasificacionSinMuestras/venv/lib/python3.7/site-packages/sklearn/cluster/_kmeans.py:294: ConvergenceWarning: Number of distinct clusters (2) found smaller than n_clusters (8). Possibly due to duplicate points in X.\n",
      "  ).fit(X, sample_weight=sample_weight)\n",
      " 54%|█████▍    | 7/13 [09:34<06:48, 68.13s/it]/home/rodri/PycharmProjects/ClasificacionSinMuestras/venv/lib/python3.7/site-packages/sklearn/cluster/_kmeans.py:294: ConvergenceWarning: Number of distinct clusters (8) found smaller than n_clusters (9). Possibly due to duplicate points in X.\n",
      "  ).fit(X, sample_weight=sample_weight)\n",
      "/home/rodri/PycharmProjects/ClasificacionSinMuestras/venv/lib/python3.7/site-packages/sklearn/cluster/_kmeans.py:294: ConvergenceWarning: Number of distinct clusters (2) found smaller than n_clusters (9). Possibly due to duplicate points in X.\n",
      "  ).fit(X, sample_weight=sample_weight)\n",
      " 62%|██████▏   | 8/13 [09:36<04:01, 48.34s/it]/home/rodri/PycharmProjects/ClasificacionSinMuestras/venv/lib/python3.7/site-packages/sklearn/cluster/_kmeans.py:294: ConvergenceWarning: Number of distinct clusters (8) found smaller than n_clusters (10). Possibly due to duplicate points in X.\n",
      "  ).fit(X, sample_weight=sample_weight)\n",
      "/home/rodri/PycharmProjects/ClasificacionSinMuestras/venv/lib/python3.7/site-packages/sklearn/cluster/_kmeans.py:294: ConvergenceWarning: Number of distinct clusters (2) found smaller than n_clusters (10). Possibly due to duplicate points in X.\n",
      "  ).fit(X, sample_weight=sample_weight)\n",
      " 69%|██████▉   | 9/13 [09:38<02:17, 34.46s/it]/home/rodri/PycharmProjects/ClasificacionSinMuestras/venv/lib/python3.7/site-packages/sklearn/cluster/_kmeans.py:294: ConvergenceWarning: Number of distinct clusters (7) found smaller than n_clusters (11). Possibly due to duplicate points in X.\n",
      "  ).fit(X, sample_weight=sample_weight)\n",
      "/home/rodri/PycharmProjects/ClasificacionSinMuestras/venv/lib/python3.7/site-packages/sklearn/cluster/_kmeans.py:294: ConvergenceWarning: Number of distinct clusters (2) found smaller than n_clusters (11). Possibly due to duplicate points in X.\n",
      "  ).fit(X, sample_weight=sample_weight)\n",
      " 77%|███████▋  | 10/13 [09:41<01:14, 24.84s/it]/home/rodri/PycharmProjects/ClasificacionSinMuestras/venv/lib/python3.7/site-packages/sklearn/cluster/_kmeans.py:294: ConvergenceWarning: Number of distinct clusters (8) found smaller than n_clusters (12). Possibly due to duplicate points in X.\n",
      "  ).fit(X, sample_weight=sample_weight)\n",
      "/home/rodri/PycharmProjects/ClasificacionSinMuestras/venv/lib/python3.7/site-packages/sklearn/cluster/_kmeans.py:294: ConvergenceWarning: Number of distinct clusters (2) found smaller than n_clusters (12). Possibly due to duplicate points in X.\n",
      "  ).fit(X, sample_weight=sample_weight)\n",
      " 85%|████████▍ | 11/13 [09:43<00:36, 18.13s/it]/home/rodri/PycharmProjects/ClasificacionSinMuestras/venv/lib/python3.7/site-packages/sklearn/cluster/_kmeans.py:294: ConvergenceWarning: Number of distinct clusters (6) found smaller than n_clusters (13). Possibly due to duplicate points in X.\n",
      "  ).fit(X, sample_weight=sample_weight)\n",
      "/home/rodri/PycharmProjects/ClasificacionSinMuestras/venv/lib/python3.7/site-packages/sklearn/cluster/_kmeans.py:294: ConvergenceWarning: Number of distinct clusters (2) found smaller than n_clusters (13). Possibly due to duplicate points in X.\n",
      "  ).fit(X, sample_weight=sample_weight)\n",
      " 92%|█████████▏| 12/13 [09:46<00:13, 13.39s/it]/home/rodri/PycharmProjects/ClasificacionSinMuestras/venv/lib/python3.7/site-packages/sklearn/cluster/_kmeans.py:294: ConvergenceWarning: Number of distinct clusters (8) found smaller than n_clusters (14). Possibly due to duplicate points in X.\n",
      "  ).fit(X, sample_weight=sample_weight)\n",
      "/home/rodri/PycharmProjects/ClasificacionSinMuestras/venv/lib/python3.7/site-packages/sklearn/cluster/_kmeans.py:294: ConvergenceWarning: Number of distinct clusters (2) found smaller than n_clusters (14). Possibly due to duplicate points in X.\n",
      "  ).fit(X, sample_weight=sample_weight)\n",
      "100%|██████████| 13/13 [09:48<00:00, 45.26s/it]\n"
     ]
    }
   ],
   "source": [
    "from tqdm import tqdm\n",
    "n = 2000\n",
    "num_clusters = range(2, 15)\n",
    "scores = [get_measures_for_parameters(i, X_train[:n, :], X_train[-n:, :]) for i in tqdm(num_clusters)]"
   ]
  },
  {
   "cell_type": "code",
   "execution_count": 36,
   "id": "excess-compound",
   "metadata": {},
   "outputs": [
    {
     "data": {
      "image/png": "[encoded data removed]",
      "text/plain": [
       "<Figure size 1440x720 with 2 Axes>"
      ]
     },
     "metadata": {
      "needs_background": "light"
     },
     "output_type": "display_data"
    }
   ],
   "source": [
    "# create the general figure\n",
    "fig1 = plt.figure(figsize=(20, 10))\n",
    " \n",
    "# and the first axes using subplot populated with data \n",
    "ax1 = fig1.add_subplot(111)\n",
    "ax1.yaxis.label.set_color('red') \n",
    "line1 = ax1.plot(num_clusters, list(zip(*scores))[0], 'o-', color=\"red\", label=\"información mutua\")\n",
    "plt.ylabel(\"información mutua\")\n",
    "\n",
    "# now, the second axes that shares the x-axis with the ax1\n",
    "ax2 = fig1.add_subplot(111, sharex=ax1, frameon=False)\n",
    "line2 = ax2.plot(num_clusters, list(zip(*scores))[1], 'xr-', color=\"blue\", label=\"mínimos usuarios por cluster\")\n",
    "ax2.yaxis.tick_right()\n",
    "\n",
    "ax2.yaxis.set_label_position(\"right\")\n",
    "\n",
    "plt.ylabel(\"mínimos usuarios por cluster\")\n",
    "ax2.yaxis.label.set_color('blue') \n",
    "plt.xlabel(\"Número de clusters\")\n",
    "plt.title(\"Scores para cada número de clusters\")\n",
    "plt.grid(True)\n",
    "plt.show()"
   ]
  },
  {
   "cell_type": "code",
   "execution_count": null,
   "id": "aerial-camcorder",
   "metadata": {},
   "outputs": [],
   "source": []
  }
 ],
 "metadata": {
  "kernelspec": {
   "display_name": "FewSampleClassifier",
   "language": "python",
   "name": "fewsampleclassifier"
  },
  "language_info": {
   "codemirror_mode": {
    "name": "ipython",
    "version": 3
   },
   "file_extension": ".py",
   "mimetype": "text/x-python",
   "name": "python",
   "nbconvert_exporter": "python",
   "pygments_lexer": "ipython3",
   "version": "3.7.9"
  }
 },
 "nbformat": 4,
 "nbformat_minor": 5
}
